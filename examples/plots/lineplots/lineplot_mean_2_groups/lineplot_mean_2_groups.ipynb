{
 "cells": [
  {
   "cell_type": "markdown",
   "id": "2b7a631a-83d7-4e8a-856b-5d3f893fbdb8",
   "metadata": {},
   "source": [
    "<span STYLE=\"font-size:200%\"> \n",
    "    Lineplot showing mean values of each group\n",
    "</span>\n",
    "\n",
    "Docker image: gnasello/datascience-env:2023-01-23\\\n",
    "Latest update: 06 February 2024"
   ]
  },
  {
   "cell_type": "markdown",
   "id": "8ec19f95-6dae-479c-a07a-bd0a39b78c43",
   "metadata": {},
   "source": [
    "# Load required packages"
   ]
  },
  {
   "cell_type": "code",
   "execution_count": 1,
   "id": "b960f27a-66e1-4542-8faa-5608291d56ac",
   "metadata": {
    "tags": [],
    "vscode": {
     "languageId": "r"
    }
   },
   "outputs": [
    {
     "name": "stderr",
     "output_type": "stream",
     "text": [
      "\n",
      "Attaching package: ‘dplyr’\n",
      "\n",
      "\n",
      "The following objects are masked from ‘package:plyr’:\n",
      "\n",
      "    arrange, count, desc, failwith, id, mutate, rename, summarise,\n",
      "    summarize\n",
      "\n",
      "\n",
      "The following objects are masked from ‘package:stats’:\n",
      "\n",
      "    filter, lag\n",
      "\n",
      "\n",
      "The following objects are masked from ‘package:base’:\n",
      "\n",
      "    intersect, setdiff, setequal, union\n",
      "\n",
      "\n"
     ]
    }
   ],
   "source": [
    "library(ggplot2)\n",
    "library(plyr)\n",
    "library(dplyr)"
   ]
  },
  {
   "cell_type": "markdown",
   "id": "3504d447-4a8f-4f00-9a37-2c6d09d3a2ba",
   "metadata": {},
   "source": [
    "Load the [r_utils scirpts](https://github.com/gabnasello/r_utils.git) from GitHub\n",
    "\n",
    "You can debug the *r_utils* script by downloading the GitHub project from terminal and chance the argument of the `source` function (open it from JupyterLab):\n",
    "\n",
    "`git clone https://github.com/gabnasello/r_utils.git`\n",
    "\n",
    "How to Reuse Functions That You Create In Scripts, [tutorial](https://www.earthdatascience.org/courses/earth-analytics/multispectral-remote-sensing-data/source-function-in-R/)"
   ]
  },
  {
   "cell_type": "code",
   "execution_count": 2,
   "id": "adb71df3-cccc-4b37-82ff-83db91640466",
   "metadata": {
    "tags": [],
    "vscode": {
     "languageId": "r"
    }
   },
   "outputs": [
    {
     "name": "stderr",
     "output_type": "stream",
     "text": [
      "Warning message in file(filename, \"r\", encoding = encoding):\n",
      "“URL 'https://raw.githubusercontent.com/gabnasello/r_utils/main/ggplot_utils.R': status was 'Couldn't resolve host name'”\n"
     ]
    },
    {
     "ename": "ERROR",
     "evalue": "Error in file(filename, \"r\", encoding = encoding): cannot open the connection to 'https://raw.githubusercontent.com/gabnasello/r_utils/main/ggplot_utils.R'\n",
     "output_type": "error",
     "traceback": [
      "Error in file(filename, \"r\", encoding = encoding): cannot open the connection to 'https://raw.githubusercontent.com/gabnasello/r_utils/main/ggplot_utils.R'\nTraceback:\n",
      "1. source(\"https://raw.githubusercontent.com/gabnasello/r_utils/main/ggplot_utils.R\")",
      "2. file(filename, \"r\", encoding = encoding)"
     ]
    }
   ],
   "source": [
    "source(\"https://raw.githubusercontent.com/gabnasello/r_utils/main/ggplot_utils.R\")\n",
    "source(\"https://raw.githubusercontent.com/gabnasello/r_utils/main/stats_utils.R\")"
   ]
  },
  {
   "cell_type": "markdown",
   "id": "c7d2f57c-860b-4c12-ac7a-6aa0b45023d8",
   "metadata": {},
   "source": [
    "# Load data"
   ]
  },
  {
   "cell_type": "code",
   "execution_count": null,
   "id": "545adf48-6d93-435e-ab5b-02e097a2dcba",
   "metadata": {
    "tags": [],
    "vscode": {
     "languageId": "r"
    }
   },
   "outputs": [],
   "source": [
    "filetable <- 'data.csv'\n",
    "\n",
    "title <- 'Plot Title'\n",
    "xlabel <- 'Time (day)'\n",
    "ylabel <- 'Cumulative release (%)'\n",
    "\n",
    "# color of each group\n",
    "scale_color_manual.values <- c(\"#004488\", \"#dca01c\")\n",
    "\n",
    "df <- read.csv(filetable)\n",
    "head(df)\n",
    "tail(df)"
   ]
  },
  {
   "cell_type": "markdown",
   "id": "f88668f6-f7cb-485b-b43e-a83c7fcf98aa",
   "metadata": {},
   "source": [
    "# Line plot of `y` over `x`"
   ]
  },
  {
   "cell_type": "markdown",
   "id": "048c5571-38ae-4526-b3d7-0b40a28b6907",
   "metadata": {
    "tags": []
   },
   "source": [
    "## Summarize the data"
   ]
  },
  {
   "cell_type": "markdown",
   "id": "9c210a7c-2c67-4394-af27-e558f32c8f19",
   "metadata": {
    "tags": []
   },
   "source": [
    "The function below will be used to calculate the mean and the standard deviation, for the variable of interest, in each group. See [tutorial](http://www.sthda.com/english/wiki/ggplot2-line-plot-quick-start-guide-r-software-and-data-visualization#line-graph-with-error-bars)"
   ]
  },
  {
   "cell_type": "code",
   "execution_count": null,
   "id": "bbffdedb-1831-4575-b981-2ceeaf9ff4ad",
   "metadata": {
    "tags": []
   },
   "outputs": [],
   "source": [
    "df_summary <- data_summary(df, varname=\"y\", \n",
    "                           groupnames=c(\"group\", \"x\"))\n",
    "df_summary <- df_summary[complete.cases(df_summary$x),]\n",
    "\n",
    "df_summary"
   ]
  },
  {
   "cell_type": "markdown",
   "id": "6f5ce1da-232e-4b8b-bb33-533e5a7f733d",
   "metadata": {
    "tags": []
   },
   "source": [
    "## Bar plot with point data"
   ]
  },
  {
   "cell_type": "code",
   "execution_count": null,
   "id": "39373530-7a75-4a3f-8415-0db51b79ac4e",
   "metadata": {
    "tags": []
   },
   "outputs": [],
   "source": [
    "color='#404040ff'\n",
    "\n",
    "ylim <- c(0,110)\n",
    "xlim <- c(0,16)\n",
    "width=9\n",
    "height=7.6\n",
    "\n",
    "p <- ggplot() +\n",
    "     geom_line(data=df_summary, aes(x=x, y=mean, color=group), linewidth=1.5) +\n",
    "     geom_point(data=df_summary, aes(x=x, y=mean, color=group), size=4.5, shape=15, stroke=2) +\n",
    "     geom_errorbar(data=df_summary, aes(x=x, y=mean, ymin=mean-sd, ymax=mean+sd), width=.4, linewidth=0.75, color=color)\n",
    "\n",
    "img <- ggplotMinAethetics(p, width=width, height=height,\n",
    "                           title=title,\n",
    "                           plot.title = element_text(size = 24),\n",
    "                           axis.text=element_text(size=24),\n",
    "                           axis.title=element_text(size=26),\n",
    "                           xlabel = xlabel, \n",
    "                           ylabel= ylabel, \n",
    "                           xlim = xlim,\n",
    "                           ylim = ylim,\n",
    "                           scale_color_manual.values = scale_color_manual.values,\n",
    "                          ) + \n",
    "            theme(axis.line.x.bottom=element_line(size=0.75),\n",
    "                  axis.line.y.left=element_line(size=0.75))#+\n",
    "            # scale_x_continuous(breaks = seq(0, 16, by = 3))\n",
    "\n",
    "img"
   ]
  },
  {
   "cell_type": "markdown",
   "id": "42b45f99-5771-49eb-bf7c-8d0594f2bda2",
   "metadata": {},
   "source": [
    "# Export plot"
   ]
  },
  {
   "cell_type": "code",
   "execution_count": null,
   "id": "e8c0c4b4-aea4-4b27-abf5-9c7d65f8943f",
   "metadata": {
    "tags": [],
    "vscode": {
     "languageId": "r"
    }
   },
   "outputs": [],
   "source": [
    "filename <- tools::file_path_sans_ext(filetable)\n",
    "filename"
   ]
  },
  {
   "cell_type": "markdown",
   "id": "97ccb82f-b238-4b73-bf35-2a58900dbf8a",
   "metadata": {},
   "source": [
    "## `.png` file"
   ]
  },
  {
   "cell_type": "code",
   "execution_count": null,
   "id": "75e94729-8c96-47ab-b4cd-b08aba3513e9",
   "metadata": {
    "tags": [],
    "vscode": {
     "languageId": "r"
    }
   },
   "outputs": [],
   "source": [
    "fileoutput <- paste(filename,'.png', sep='')\n",
    "fileoutput"
   ]
  },
  {
   "cell_type": "code",
   "execution_count": null,
   "id": "af92b37d-971e-4d8b-9f97-38c30fdcc0a5",
   "metadata": {
    "tags": [],
    "vscode": {
     "languageId": "r"
    }
   },
   "outputs": [],
   "source": [
    "ggsave(file=fileoutput, plot=img, width=width, height=height, bg='white')"
   ]
  },
  {
   "cell_type": "markdown",
   "id": "68e80ba1-6b7c-4adc-b3a0-69bccda9bb65",
   "metadata": {},
   "source": [
    "## `.svg` file"
   ]
  },
  {
   "cell_type": "code",
   "execution_count": null,
   "id": "706eae06-f904-4ffb-b577-bacaaec734d2",
   "metadata": {
    "tags": [],
    "vscode": {
     "languageId": "r"
    }
   },
   "outputs": [],
   "source": [
    "fileoutput <- paste(filename,'.svg', sep='')\n",
    "fileoutput"
   ]
  },
  {
   "cell_type": "code",
   "execution_count": null,
   "id": "cfb212a4-16eb-4f00-b6c6-825780324845",
   "metadata": {
    "tags": [],
    "vscode": {
     "languageId": "r"
    }
   },
   "outputs": [],
   "source": [
    "ggsave(file=fileoutput, plot=img, width=width, height=height)"
   ]
  },
  {
   "cell_type": "code",
   "execution_count": null,
   "id": "ecad68ee-22a3-465f-b24c-28de355b0585",
   "metadata": {},
   "outputs": [],
   "source": []
  }
 ],
 "metadata": {
  "kernelspec": {
   "display_name": "R",
   "language": "R",
   "name": "ir"
  },
  "language_info": {
   "codemirror_mode": "r",
   "file_extension": ".r",
   "mimetype": "text/x-r-source",
   "name": "R",
   "pygments_lexer": "r",
   "version": "4.3.2"
  }
 },
 "nbformat": 4,
 "nbformat_minor": 5
}
